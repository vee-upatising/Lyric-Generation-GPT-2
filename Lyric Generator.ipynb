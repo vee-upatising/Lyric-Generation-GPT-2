{
 "cells": [
  {
   "cell_type": "code",
   "execution_count": 1,
   "metadata": {},
   "outputs": [
    {
     "name": "stderr",
     "output_type": "stream",
     "text": [
      "Using TensorFlow backend.\n"
     ]
    }
   ],
   "source": [
    "import numpy as np\n",
    "import pandas as pd\n",
    "import random\n",
    "import tensorflow as tf\n",
    "\n",
    "from tensorflow import keras\n",
    "from keras import backend as K\n",
    "from keras.models import Sequential\n",
    "from keras.layers import Dense, Activation, Dropout, Bidirectional\n",
    "from keras.layers import LSTM, RepeatVector, TimeDistributed\n",
    "from sklearn.model_selection import train_test_split\n",
    "from keras import optimizers\n",
    "\n",
    "from numpy import array\n",
    "from numpy import argmax\n",
    "from sklearn.preprocessing import LabelEncoder\n",
    "from sklearn.preprocessing import OneHotEncoder\n",
    "import matplotlib.pyplot as plt"
   ]
  },
  {
   "cell_type": "code",
   "execution_count": 189,
   "metadata": {},
   "outputs": [],
   "source": [
    "names =  pd.read_csv('taylor_swift.csv', error_bad_lines = False, encoding='latin-1')"
   ]
  },
  {
   "cell_type": "code",
   "execution_count": 190,
   "metadata": {},
   "outputs": [
    {
     "data": {
      "text/html": [
       "<div>\n",
       "<style scoped>\n",
       "    .dataframe tbody tr th:only-of-type {\n",
       "        vertical-align: middle;\n",
       "    }\n",
       "\n",
       "    .dataframe tbody tr th {\n",
       "        vertical-align: top;\n",
       "    }\n",
       "\n",
       "    .dataframe thead th {\n",
       "        text-align: right;\n",
       "    }\n",
       "</style>\n",
       "<table border=\"1\" class=\"dataframe\">\n",
       "  <thead>\n",
       "    <tr style=\"text-align: right;\">\n",
       "      <th></th>\n",
       "      <th>artist</th>\n",
       "      <th>album</th>\n",
       "      <th>track_title</th>\n",
       "      <th>track_n</th>\n",
       "      <th>lyric</th>\n",
       "      <th>line</th>\n",
       "      <th>year</th>\n",
       "    </tr>\n",
       "  </thead>\n",
       "  <tbody>\n",
       "    <tr>\n",
       "      <th>0</th>\n",
       "      <td>Taylor Swift</td>\n",
       "      <td>Taylor Swift</td>\n",
       "      <td>Tim McGraw</td>\n",
       "      <td>1</td>\n",
       "      <td>He said the way my blue eyes shined</td>\n",
       "      <td>1</td>\n",
       "      <td>2006</td>\n",
       "    </tr>\n",
       "    <tr>\n",
       "      <th>1</th>\n",
       "      <td>Taylor Swift</td>\n",
       "      <td>Taylor Swift</td>\n",
       "      <td>Tim McGraw</td>\n",
       "      <td>1</td>\n",
       "      <td>Put those Georgia stars to shame that night</td>\n",
       "      <td>2</td>\n",
       "      <td>2006</td>\n",
       "    </tr>\n",
       "    <tr>\n",
       "      <th>2</th>\n",
       "      <td>Taylor Swift</td>\n",
       "      <td>Taylor Swift</td>\n",
       "      <td>Tim McGraw</td>\n",
       "      <td>1</td>\n",
       "      <td>I said, \"That's a lie\"</td>\n",
       "      <td>3</td>\n",
       "      <td>2006</td>\n",
       "    </tr>\n",
       "    <tr>\n",
       "      <th>3</th>\n",
       "      <td>Taylor Swift</td>\n",
       "      <td>Taylor Swift</td>\n",
       "      <td>Tim McGraw</td>\n",
       "      <td>1</td>\n",
       "      <td>Just a boy in a Chevy truck</td>\n",
       "      <td>4</td>\n",
       "      <td>2006</td>\n",
       "    </tr>\n",
       "    <tr>\n",
       "      <th>4</th>\n",
       "      <td>Taylor Swift</td>\n",
       "      <td>Taylor Swift</td>\n",
       "      <td>Tim McGraw</td>\n",
       "      <td>1</td>\n",
       "      <td>That had a tendency of gettin' stuck</td>\n",
       "      <td>5</td>\n",
       "      <td>2006</td>\n",
       "    </tr>\n",
       "  </tbody>\n",
       "</table>\n",
       "</div>"
      ],
      "text/plain": [
       "         artist         album track_title  track_n  \\\n",
       "0  Taylor Swift  Taylor Swift  Tim McGraw        1   \n",
       "1  Taylor Swift  Taylor Swift  Tim McGraw        1   \n",
       "2  Taylor Swift  Taylor Swift  Tim McGraw        1   \n",
       "3  Taylor Swift  Taylor Swift  Tim McGraw        1   \n",
       "4  Taylor Swift  Taylor Swift  Tim McGraw        1   \n",
       "\n",
       "                                         lyric  line  year  \n",
       "0          He said the way my blue eyes shined     1  2006  \n",
       "1  Put those Georgia stars to shame that night     2  2006  \n",
       "2                       I said, \"That's a lie\"     3  2006  \n",
       "3                  Just a boy in a Chevy truck     4  2006  \n",
       "4         That had a tendency of gettin' stuck     5  2006  "
      ]
     },
     "execution_count": 190,
     "metadata": {},
     "output_type": "execute_result"
    }
   ],
   "source": [
    "names.head()"
   ]
  },
  {
   "cell_type": "code",
   "execution_count": 191,
   "metadata": {},
   "outputs": [],
   "source": [
    "names = names.drop(['artist','album','track_title','track_n','line','year'], axis=1)"
   ]
  },
  {
   "cell_type": "code",
   "execution_count": 192,
   "metadata": {},
   "outputs": [
    {
     "data": {
      "text/plain": [
       "4862"
      ]
     },
     "execution_count": 192,
     "metadata": {},
     "output_type": "execute_result"
    }
   ],
   "source": [
    "len(names)"
   ]
  },
  {
   "cell_type": "code",
   "execution_count": 200,
   "metadata": {},
   "outputs": [],
   "source": [
    "data = []\n",
    "for i in range(len(names)):\n",
    "    x = names.iloc[i][0].split()\n",
    "    if len(x) > 8:\n",
    "        x = x[:8]\n",
    "    elif len(x) < 8:\n",
    "        while(len(x) != 8):\n",
    "            x.append('9')\n",
    "    for k in range(8):\n",
    "        x[k] = x[k].translate(str.maketrans('', '', string.punctuation))\n",
    "    data.append(x)"
   ]
  },
  {
   "cell_type": "code",
   "execution_count": 201,
   "metadata": {},
   "outputs": [],
   "source": [
    "vocab = set(x for l in data for x in l)"
   ]
  },
  {
   "cell_type": "code",
   "execution_count": 202,
   "metadata": {},
   "outputs": [
    {
     "data": {
      "text/plain": [
       "2668"
      ]
     },
     "execution_count": 202,
     "metadata": {},
     "output_type": "execute_result"
    }
   ],
   "source": [
    "len(vocab)"
   ]
  },
  {
   "cell_type": "code",
   "execution_count": 203,
   "metadata": {},
   "outputs": [],
   "source": [
    "vocabulary = list(vocab)\n",
    "vocabulary = np.array(vocabulary)\n",
    "label_encoder = LabelEncoder()\n",
    "integer_encoded = label_encoder.fit_transform(vocabulary)"
   ]
  },
  {
   "cell_type": "code",
   "execution_count": 204,
   "metadata": {},
   "outputs": [
    {
     "name": "stdout",
     "output_type": "stream",
     "text": [
      "[[1. 0. 0. ... 0. 0. 0.]\n",
      " [0. 0. 0. ... 0. 0. 0.]\n",
      " [0. 0. 0. ... 0. 0. 0.]\n",
      " ...\n",
      " [0. 0. 0. ... 0. 0. 0.]\n",
      " [0. 0. 0. ... 0. 0. 0.]\n",
      " [0. 0. 0. ... 0. 0. 0.]]\n"
     ]
    },
    {
     "name": "stderr",
     "output_type": "stream",
     "text": [
      "C:\\Users\\Vee\\Anaconda3\\lib\\site-packages\\sklearn\\preprocessing\\_encoders.py:415: FutureWarning: The handling of integer data will change in version 0.22. Currently, the categories are determined based on the range [0, max(values)], while in the future they will be determined based on the unique values.\n",
      "If you want the future behaviour and silence this warning, you can specify \"categories='auto'\".\n",
      "In case you used a LabelEncoder before this OneHotEncoder to convert the categories to integers, then you can now use the OneHotEncoder directly.\n",
      "  warnings.warn(msg, FutureWarning)\n"
     ]
    }
   ],
   "source": [
    "# binary encode\n",
    "onehot_encoder = OneHotEncoder(sparse=False)\n",
    "integer_encoded = integer_encoded.reshape(len(integer_encoded), 1)\n",
    "onehot_encoded = onehot_encoder.fit_transform(integer_encoded)\n",
    "print(onehot_encoded)"
   ]
  },
  {
   "cell_type": "code",
   "execution_count": 205,
   "metadata": {},
   "outputs": [],
   "source": [
    "big_data = []\n",
    "bigger_data = []\n",
    "for x in range(len(data)):\n",
    "    for y in range(8):\n",
    "        big_data.append(onehot_encoded[np.where(vocabulary == data[x][y])[0][0]])\n",
    "    bigger_data.append(big_data)\n",
    "    big_data = []"
   ]
  },
  {
   "cell_type": "code",
   "execution_count": 206,
   "metadata": {},
   "outputs": [],
   "source": [
    "bigger_data = np.array(bigger_data)"
   ]
  },
  {
   "cell_type": "code",
   "execution_count": 207,
   "metadata": {},
   "outputs": [
    {
     "data": {
      "text/plain": [
       "(4862, 8, 2668)"
      ]
     },
     "execution_count": 207,
     "metadata": {},
     "output_type": "execute_result"
    }
   ],
   "source": [
    "bigger_data.shape"
   ]
  },
  {
   "cell_type": "code",
   "execution_count": 208,
   "metadata": {},
   "outputs": [],
   "source": [
    "ans = []\n",
    "for i in range(bigger_data.shape[0]):\n",
    "    ans.append(np.random.normal(1,10,(3,10)))"
   ]
  },
  {
   "cell_type": "code",
   "execution_count": 209,
   "metadata": {},
   "outputs": [
    {
     "data": {
      "text/plain": [
       "(4862, 3, 10)"
      ]
     },
     "execution_count": 209,
     "metadata": {},
     "output_type": "execute_result"
    }
   ],
   "source": [
    "ans = np.array(ans)\n",
    "ans.shape"
   ]
  },
  {
   "cell_type": "code",
   "execution_count": 210,
   "metadata": {},
   "outputs": [],
   "source": [
    "#splitting data into train and test sets. 3/4 train, 1/4 test.\n",
    "x_train,x_test,y_train,y_test = train_test_split(ans, bigger_data, test_size=0.25, shuffle=False, random_state=69)\n",
    "del big_data\n",
    "del bigger_data\n",
    "del ans\n",
    "del names\n",
    "del data"
   ]
  },
  {
   "cell_type": "code",
   "execution_count": 261,
   "metadata": {},
   "outputs": [
    {
     "name": "stdout",
     "output_type": "stream",
     "text": [
      "Model: \"sequential_17\"\n",
      "_________________________________________________________________\n",
      "Layer (type)                 Output Shape              Param #   \n",
      "=================================================================\n",
      "bidirectional_32 (Bidirectio (None, 1024)              2142208   \n",
      "_________________________________________________________________\n",
      "repeat_vector_17 (RepeatVect (None, 8, 1024)           0         \n",
      "_________________________________________________________________\n",
      "bidirectional_33 (Bidirectio (None, 8, 1024)           6295552   \n",
      "_________________________________________________________________\n",
      "dropout_51 (Dropout)         (None, 8, 1024)           0         \n",
      "_________________________________________________________________\n",
      "bidirectional_34 (Bidirectio (None, 8, 1024)           6295552   \n",
      "_________________________________________________________________\n",
      "dropout_52 (Dropout)         (None, 8, 1024)           0         \n",
      "_________________________________________________________________\n",
      "time_distributed_35 (TimeDis (None, 8, 2668)           2734700   \n",
      "=================================================================\n",
      "Total params: 17,468,012\n",
      "Trainable params: 17,468,012\n",
      "Non-trainable params: 0\n",
      "_________________________________________________________________\n",
      "None\n"
     ]
    }
   ],
   "source": [
    "# define model\n",
    "model = Sequential()\n",
    "#shaping input to match data\n",
    "model.add(Bidirectional(LSTM(512, activation = 'tanh'), input_shape=(3, 10)))\n",
    "#specifying output to have 4 timesteps\n",
    "model.add(RepeatVector(8))\n",
    "#specifying 1 feature as the output\n",
    "model.add(Bidirectional(LSTM(512, activation = 'tanh', return_sequences=True)))\n",
    "model.add(Dropout(0.5))\n",
    "model.add(Bidirectional(LSTM(512, activation = 'sigmoid', return_sequences=True)))\n",
    "model.add(Dropout(0.5))\n",
    "model.add(TimeDistributed(Dense(2668, activation = 'softmax')))\n",
    "model.compile(loss='binary_crossentropy', optimizer='adam')\n",
    "print(model.summary())"
   ]
  },
  {
   "cell_type": "code",
   "execution_count": 262,
   "metadata": {},
   "outputs": [
    {
     "name": "stdout",
     "output_type": "stream",
     "text": [
      "Train on 3646 samples, validate on 1216 samples\n",
      "Epoch 1/20\n",
      "3646/3646 [==============================] - 7s 2ms/step - loss: 0.0032 - val_loss: 0.0029\n",
      "Epoch 2/20\n",
      "3646/3646 [==============================] - 2s 481us/step - loss: 0.0028 - val_loss: 0.0026\n",
      "Epoch 3/20\n",
      "3646/3646 [==============================] - 2s 495us/step - loss: 0.0026 - val_loss: 0.0025\n",
      "Epoch 4/20\n",
      "3646/3646 [==============================] - 2s 481us/step - loss: 0.0025 - val_loss: 0.0025\n",
      "Epoch 5/20\n",
      "3646/3646 [==============================] - 2s 492us/step - loss: 0.0024 - val_loss: 0.0025\n",
      "Epoch 6/20\n",
      "3646/3646 [==============================] - 2s 497us/step - loss: 0.0024 - val_loss: 0.0025\n",
      "Epoch 7/20\n",
      "3646/3646 [==============================] - 2s 491us/step - loss: 0.0024 - val_loss: 0.0024\n",
      "Epoch 8/20\n",
      "3646/3646 [==============================] - 2s 487us/step - loss: 0.0024 - val_loss: 0.0024\n",
      "Epoch 9/20\n",
      "3646/3646 [==============================] - 2s 501us/step - loss: 0.0024 - val_loss: 0.0024\n",
      "Epoch 10/20\n",
      "3646/3646 [==============================] - 2s 485us/step - loss: 0.0023 - val_loss: 0.0024\n",
      "Epoch 11/20\n",
      "3646/3646 [==============================] - 2s 490us/step - loss: 0.0023 - val_loss: 0.0024\n",
      "Epoch 12/20\n",
      "3646/3646 [==============================] - 2s 487us/step - loss: 0.0023 - val_loss: 0.0024\n",
      "Epoch 13/20\n",
      "3646/3646 [==============================] - 2s 492us/step - loss: 0.0023 - val_loss: 0.0024\n",
      "Epoch 14/20\n",
      "3646/3646 [==============================] - 2s 495us/step - loss: 0.0023 - val_loss: 0.0024\n",
      "Epoch 15/20\n",
      "3646/3646 [==============================] - 2s 490us/step - loss: 0.0023 - val_loss: 0.0024\n",
      "Epoch 16/20\n",
      "3646/3646 [==============================] - 2s 484us/step - loss: 0.0023 - val_loss: 0.0024\n",
      "Epoch 17/20\n",
      "3646/3646 [==============================] - 2s 494us/step - loss: 0.0023 - val_loss: 0.0024\n",
      "Epoch 18/20\n",
      "3646/3646 [==============================] - 2s 496us/step - loss: 0.0023 - val_loss: 0.0024\n",
      "Epoch 19/20\n",
      "3646/3646 [==============================] - 2s 488us/step - loss: 0.0023 - val_loss: 0.0024\n",
      "Epoch 20/20\n",
      "3646/3646 [==============================] - 2s 485us/step - loss: 0.0023 - val_loss: 0.0024\n"
     ]
    }
   ],
   "source": [
    "history = model.fit(x_train, y_train, epochs=20, batch_size=500, verbose=1,validation_data=(x_test, y_test))"
   ]
  },
  {
   "cell_type": "code",
   "execution_count": 263,
   "metadata": {},
   "outputs": [
    {
     "data": {
      "image/png": "[encoded data removed]",
      "text/plain": [
       "<Figure size 432x288 with 1 Axes>"
      ]
     },
     "metadata": {
      "needs_background": "light"
     },
     "output_type": "display_data"
    }
   ],
   "source": [
    "# Plot training & validation loss values\n",
    "plt.plot(history.history['loss'])\n",
    "plt.plot(history.history['val_loss'])\n",
    "plt.title('Model Loss')\n",
    "plt.ylabel('Loss')\n",
    "plt.xlabel('Epoch')\n",
    "plt.legend(['Test', 'Validation'], loc='upper right')\n",
    "plt.show()"
   ]
  },
  {
   "cell_type": "code",
   "execution_count": 280,
   "metadata": {},
   "outputs": [
    {
     "name": "stdout",
     "output_type": "stream",
     "text": [
      "And I \n",
      "\n",
      "And I \n",
      "\n",
      "And I \n",
      "\n"
     ]
    }
   ],
   "source": [
    "for i in range(3):\n",
    "    faux = np.random.normal(1,900,(3,10)) * -1\n",
    "    faux = faux.reshape(1,3,10)\n",
    "    jamie = model.predict_on_batch(faux)\n",
    "    for y in range(8):\n",
    "        inverted = label_encoder.inverse_transform([argmax(jamie[0][y])])\n",
    "        if(inverted == '9'):\n",
    "            break\n",
    "        print(inverted[0], end =\" \")\n",
    "    print('\\n')"
   ]
  },
  {
   "cell_type": "code",
   "execution_count": null,
   "metadata": {},
   "outputs": [],
   "source": []
  },
  {
   "cell_type": "code",
   "execution_count": null,
   "metadata": {},
   "outputs": [],
   "source": []
  }
 ],
 "metadata": {
  "kernelspec": {
   "display_name": "Python 3",
   "language": "python",
   "name": "python3"
  },
  "language_info": {
   "codemirror_mode": {
    "name": "ipython",
    "version": 3
   },
   "file_extension": ".py",
   "mimetype": "text/x-python",
   "name": "python",
   "nbconvert_exporter": "python",
   "pygments_lexer": "ipython3",
   "version": "3.7.3"
  }
 },
 "nbformat": 4,
 "nbformat_minor": 2
}
